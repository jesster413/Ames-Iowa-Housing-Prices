{
 "cells": [
  {
   "cell_type": "code",
   "execution_count": 1,
   "metadata": {},
   "outputs": [],
   "source": [
    "import pandas as pd\n",
    "import numpy as np\n",
    "import matplotlib\n",
    "import matplotlib.pyplot as plt\n",
    "import seaborn as sns\n",
    "import copy\n",
    "\n",
    "sns.set_style('darkgrid')\n",
    "%config InlineBackend.figure_format = 'retina'\n",
    "%matplotlib inline\n",
    "\n",
    "from sklearn.preprocessing import PolynomialFeatures, StandardScaler"
   ]
  },
  {
   "cell_type": "code",
   "execution_count": 2,
   "metadata": {},
   "outputs": [],
   "source": [
    "train = pd.read_csv('./train (1).csv')"
   ]
  },
  {
   "cell_type": "code",
   "execution_count": 3,
   "metadata": {},
   "outputs": [],
   "source": [
    "test = pd.read_csv('./test.csv')"
   ]
  },
  {
   "cell_type": "code",
   "execution_count": 4,
   "metadata": {},
   "outputs": [],
   "source": [
    "train_obj = train.select_dtypes(exclude=[np.number])\n",
    "train_num = train.select_dtypes(include=[np.number])\n",
    "test_obj = test.select_dtypes(exclude=[np.number])\n",
    "test_num = test.select_dtypes(include=[np.number])"
   ]
  },
  {
   "cell_type": "code",
   "execution_count": 5,
   "metadata": {},
   "outputs": [],
   "source": [
    "# fill NaNs in numeric columns with mean of column (Train)\n",
    "train.fillna(train_num.mean(), inplace=True)"
   ]
  },
  {
   "cell_type": "code",
   "execution_count": 6,
   "metadata": {},
   "outputs": [],
   "source": [
    "# fill NaNs in numeric columns with mean of column (Test)\n",
    "test.fillna(test_num.mean(), inplace=True)"
   ]
  },
  {
   "cell_type": "code",
   "execution_count": 7,
   "metadata": {},
   "outputs": [],
   "source": [
    "# Get dummies on categorical columns (Train)\n",
    "train = pd.concat([train, pd.get_dummies(train_obj)], axis=1)"
   ]
  },
  {
   "cell_type": "code",
   "execution_count": 8,
   "metadata": {},
   "outputs": [],
   "source": [
    "# Get dummies on categorical columns (Test)\n",
    "test = pd.concat([test, pd.get_dummies(test_obj)], axis=1)"
   ]
  },
  {
   "cell_type": "code",
   "execution_count": 9,
   "metadata": {},
   "outputs": [
    {
     "name": "stdout",
     "output_type": "stream",
     "text": [
      "(2051, 334)\n",
      "(879, 315)\n"
     ]
    }
   ],
   "source": [
    "#Confirm dummies were added\n",
    "print(train.shape)\n",
    "print(test.shape)"
   ]
  },
  {
   "cell_type": "code",
   "execution_count": 10,
   "metadata": {},
   "outputs": [
    {
     "data": {
      "text/plain": [
       "Index(['MS Zoning', 'Street', 'Alley', 'Lot Shape', 'Land Contour',\n",
       "       'Utilities', 'Lot Config', 'Land Slope', 'Neighborhood', 'Condition 1',\n",
       "       'Condition 2', 'Bldg Type', 'House Style', 'Roof Style', 'Roof Matl',\n",
       "       'Exterior 1st', 'Exterior 2nd', 'Mas Vnr Type', 'Exter Qual',\n",
       "       'Exter Cond', 'Foundation', 'Bsmt Qual', 'Bsmt Cond', 'Bsmt Exposure',\n",
       "       'BsmtFin Type 1', 'BsmtFin Type 2', 'Heating', 'Heating QC',\n",
       "       'Central Air', 'Electrical', 'Kitchen Qual', 'Functional',\n",
       "       'Fireplace Qu', 'Garage Type', 'Garage Finish', 'Garage Qual',\n",
       "       'Garage Cond', 'Paved Drive', 'Pool QC', 'Fence', 'Misc Feature',\n",
       "       'Sale Type'],\n",
       "      dtype='object')"
      ]
     },
     "execution_count": 10,
     "metadata": {},
     "output_type": "execute_result"
    }
   ],
   "source": [
    "# Identify Object Columns in Train\n",
    "\n",
    "train_obj.columns"
   ]
  },
  {
   "cell_type": "code",
   "execution_count": 11,
   "metadata": {},
   "outputs": [],
   "source": [
    "# Drop those \"object\" columns in Train\n",
    "train.drop(['MS Zoning', 'Street', 'Alley', 'Lot Shape', 'Land Contour',\n",
    "       'Utilities', 'Lot Config', 'Land Slope', 'Neighborhood', 'Condition 1',\n",
    "       'Condition 2', 'Bldg Type', 'House Style', 'Roof Style', 'Roof Matl',\n",
    "       'Exterior 1st', 'Exterior 2nd', 'Mas Vnr Type', 'Exter Qual',\n",
    "       'Exter Cond', 'Foundation', 'Bsmt Qual', 'Bsmt Cond', 'Bsmt Exposure',\n",
    "       'BsmtFin Type 1', 'BsmtFin Type 2', 'Heating', 'Heating QC',\n",
    "       'Central Air', 'Electrical', 'Kitchen Qual', 'Functional',\n",
    "       'Fireplace Qu', 'Garage Type', 'Garage Finish', 'Garage Qual',\n",
    "       'Garage Cond', 'Paved Drive', 'Pool QC', 'Fence', 'Misc Feature',\n",
    "       'Sale Type'], axis=1, inplace=True)"
   ]
  },
  {
   "cell_type": "code",
   "execution_count": 12,
   "metadata": {},
   "outputs": [
    {
     "data": {
      "text/plain": [
       "Index(['MS Zoning', 'Street', 'Alley', 'Lot Shape', 'Land Contour',\n",
       "       'Utilities', 'Lot Config', 'Land Slope', 'Neighborhood', 'Condition 1',\n",
       "       'Condition 2', 'Bldg Type', 'House Style', 'Roof Style', 'Roof Matl',\n",
       "       'Exterior 1st', 'Exterior 2nd', 'Mas Vnr Type', 'Exter Qual',\n",
       "       'Exter Cond', 'Foundation', 'Bsmt Qual', 'Bsmt Cond', 'Bsmt Exposure',\n",
       "       'BsmtFin Type 1', 'BsmtFin Type 2', 'Heating', 'Heating QC',\n",
       "       'Central Air', 'Electrical', 'Kitchen Qual', 'Functional',\n",
       "       'Fireplace Qu', 'Garage Type', 'Garage Finish', 'Garage Qual',\n",
       "       'Garage Cond', 'Paved Drive', 'Pool QC', 'Fence', 'Misc Feature',\n",
       "       'Sale Type'],\n",
       "      dtype='object')"
      ]
     },
     "execution_count": 12,
     "metadata": {},
     "output_type": "execute_result"
    }
   ],
   "source": [
    "# Identify Object Columns in Test\n",
    "\n",
    "test_obj.columns"
   ]
  },
  {
   "cell_type": "code",
   "execution_count": 13,
   "metadata": {},
   "outputs": [],
   "source": [
    "# Drop those \"object\" columns in Test\n",
    "test.drop(['MS Zoning', 'Street', 'Alley', 'Lot Shape', 'Land Contour',\n",
    "       'Utilities', 'Lot Config', 'Land Slope', 'Neighborhood', 'Condition 1',\n",
    "       'Condition 2', 'Bldg Type', 'House Style', 'Roof Style', 'Roof Matl',\n",
    "       'Exterior 1st', 'Exterior 2nd', 'Mas Vnr Type', 'Exter Qual',\n",
    "       'Exter Cond', 'Foundation', 'Bsmt Qual', 'Bsmt Cond', 'Bsmt Exposure',\n",
    "       'BsmtFin Type 1', 'BsmtFin Type 2', 'Heating', 'Heating QC',\n",
    "       'Central Air', 'Electrical', 'Kitchen Qual', 'Functional',\n",
    "       'Fireplace Qu', 'Garage Type', 'Garage Finish', 'Garage Qual',\n",
    "       'Garage Cond', 'Paved Drive', 'Pool QC', 'Fence', 'Misc Feature',\n",
    "       'Sale Type'], axis=1, inplace=True)"
   ]
  },
  {
   "cell_type": "code",
   "execution_count": 14,
   "metadata": {},
   "outputs": [
    {
     "name": "stdout",
     "output_type": "stream",
     "text": [
      "(2051, 292)\n",
      "(879, 273)\n"
     ]
    }
   ],
   "source": [
    "# Recheck shape of dataset to confirm object columns are dropped\n",
    "print(train.shape)\n",
    "print(test.shape)"
   ]
  },
  {
   "cell_type": "code",
   "execution_count": 15,
   "metadata": {},
   "outputs": [
    {
     "data": {
      "text/plain": [
       "0"
      ]
     },
     "execution_count": 15,
     "metadata": {},
     "output_type": "execute_result"
    }
   ],
   "source": [
    "# Recheck that there are no more null values\n",
    "train.isnull().sum().sum()"
   ]
  },
  {
   "cell_type": "code",
   "execution_count": 16,
   "metadata": {},
   "outputs": [
    {
     "data": {
      "text/plain": [
       "['Heating_Wall',\n",
       " 'Roof Matl_ClyTile',\n",
       " 'Neighborhood_GrnHill',\n",
       " 'Condition 2_Artery',\n",
       " 'MS Zoning_A (agr)',\n",
       " 'Condition 2_RRAn',\n",
       " 'Neighborhood_Landmrk',\n",
       " 'Bsmt Cond_Po',\n",
       " 'Garage Qual_Ex',\n",
       " 'Electrical_Mix',\n",
       " 'SalePrice',\n",
       " 'Roof Matl_Membran',\n",
       " 'Misc Feature_Elev',\n",
       " 'Condition 2_RRNn',\n",
       " 'Misc Feature_TenC',\n",
       " 'Bsmt Cond_Ex',\n",
       " 'Functional_Sev',\n",
       " 'Heating QC_Po',\n",
       " 'Heating_OthW',\n",
       " 'Pool QC_Gd',\n",
       " 'Utilities_NoSeWa',\n",
       " 'Exterior 1st_CBlock',\n",
       " 'Pool QC_Fa',\n",
       " 'Functional_Sal',\n",
       " 'Condition 2_RRAe',\n",
       " 'Exterior 2nd_Stone',\n",
       " 'Exterior 1st_ImStucc',\n",
       " 'Exterior 1st_Stone']"
      ]
     },
     "execution_count": 16,
     "metadata": {},
     "output_type": "execute_result"
    }
   ],
   "source": [
    "extra_train_cols = set(train.columns) - set(test.columns)\n",
    "extra_train_cols = list(extra_train_cols)\n",
    "extra_train_cols"
   ]
  },
  {
   "cell_type": "code",
   "execution_count": 17,
   "metadata": {},
   "outputs": [],
   "source": [
    "# Drop those Extra Columns in Train\n",
    "\n",
    "train.drop(['Neighborhood_GrnHill',\n",
    " 'Roof Matl_Membran',\n",
    " 'Neighborhood_Landmrk',\n",
    " 'Misc Feature_TenC',\n",
    " 'Exterior 1st_Stone',\n",
    " 'Roof Matl_ClyTile',\n",
    " 'Bsmt Cond_Ex',\n",
    " 'MS Zoning_A (agr)',\n",
    " 'Pool QC_Gd',\n",
    " 'Bsmt Cond_Po',\n",
    " 'Condition 2_Artery',\n",
    " 'Condition 2_RRNn',\n",
    " 'Exterior 2nd_Stone',\n",
    " 'Utilities_NoSeWa',\n",
    " 'Exterior 1st_CBlock',\n",
    " 'Exterior 1st_ImStucc',\n",
    " 'Functional_Sal',\n",
    " 'Heating_Wall',\n",
    " 'Misc Feature_Elev',\n",
    " 'Condition 2_RRAn',\n",
    " 'Functional_Sev',\n",
    " 'Heating_OthW',\n",
    " 'Heating QC_Po',\n",
    " 'Electrical_Mix',\n",
    " 'Garage Qual_Ex',\n",
    " 'Pool QC_Fa',\n",
    " 'Condition 2_RRAe'], axis=1, inplace=True)"
   ]
  },
  {
   "cell_type": "code",
   "execution_count": 18,
   "metadata": {},
   "outputs": [
    {
     "data": {
      "text/plain": [
       "['Heating_Floor',\n",
       " 'Exterior 2nd_PreCast',\n",
       " 'Roof Matl_Metal',\n",
       " 'Mas Vnr Type_CBlock',\n",
       " 'Sale Type_VWD',\n",
       " 'Kitchen Qual_Po',\n",
       " 'Exterior 1st_PreCast',\n",
       " 'Exterior 2nd_Other',\n",
       " 'Roof Matl_Roll']"
      ]
     },
     "execution_count": 18,
     "metadata": {},
     "output_type": "execute_result"
    }
   ],
   "source": [
    "extra_test_cols = set(test.columns) - set(train.columns)\n",
    "extra_test_cols = list(extra_test_cols)\n",
    "extra_test_cols"
   ]
  },
  {
   "cell_type": "code",
   "execution_count": 19,
   "metadata": {},
   "outputs": [],
   "source": [
    "# Drop those Extra columns in Test\n",
    "\n",
    "test.drop(['Sale Type_VWD',\n",
    " 'Roof Matl_Metal',\n",
    " 'Exterior 2nd_PreCast',\n",
    " 'Mas Vnr Type_CBlock',\n",
    " 'Exterior 1st_PreCast',\n",
    " 'Exterior 2nd_Other',\n",
    " 'Kitchen Qual_Po',\n",
    " 'Heating_Floor',\n",
    " 'Roof Matl_Roll'], axis=1, inplace=True)"
   ]
  },
  {
   "cell_type": "code",
   "execution_count": 20,
   "metadata": {},
   "outputs": [
    {
     "data": {
      "text/plain": [
       "(2051, 265)"
      ]
     },
     "execution_count": 20,
     "metadata": {},
     "output_type": "execute_result"
    }
   ],
   "source": [
    "# Check Train Shape\n",
    "\n",
    "train.shape"
   ]
  },
  {
   "cell_type": "code",
   "execution_count": 21,
   "metadata": {},
   "outputs": [
    {
     "data": {
      "text/plain": [
       "(879, 264)"
      ]
     },
     "execution_count": 21,
     "metadata": {},
     "output_type": "execute_result"
    }
   ],
   "source": [
    "# Check Test Shape\n",
    "\n",
    "test.shape"
   ]
  },
  {
   "cell_type": "code",
   "execution_count": 22,
   "metadata": {},
   "outputs": [],
   "source": [
    "# Fill New column SalePrice in Test with 0s\n",
    "\n",
    "test['SalePrice'] = 0"
   ]
  },
  {
   "cell_type": "code",
   "execution_count": 23,
   "metadata": {},
   "outputs": [
    {
     "data": {
      "text/plain": [
       "(879, 265)"
      ]
     },
     "execution_count": 23,
     "metadata": {},
     "output_type": "execute_result"
    }
   ],
   "source": [
    "# Recheck Test Shape\n",
    "\n",
    "test.shape"
   ]
  },
  {
   "cell_type": "code",
   "execution_count": 24,
   "metadata": {},
   "outputs": [
    {
     "data": {
      "text/plain": [
       "['Overall Qual',\n",
       " 'Year Built',\n",
       " 'Total Bsmt SF',\n",
       " '1st Flr SF',\n",
       " 'Gr Liv Area',\n",
       " 'Garage Cars',\n",
       " 'Garage Area',\n",
       " 'Exter Qual_TA',\n",
       " 'Bsmt Qual_Ex',\n",
       " 'Kitchen Qual_Ex']"
      ]
     },
     "execution_count": 24,
     "metadata": {},
     "output_type": "execute_result"
    }
   ],
   "source": [
    "# Feature Selection with 10 Features\n",
    "\n",
    "from sklearn.feature_selection import  SelectKBest, f_regression, f_classif\n",
    "selector = SelectKBest(score_func=f_regression, k=10)\n",
    "\n",
    "target = 'SalePrice'\n",
    "not_target = [x for x in train.columns if x != target]\n",
    "\n",
    "predictors = not_target\n",
    "\n",
    "selector.fit(train[predictors], train[target])\n",
    "\n",
    "best_features = selector.get_support(indices=True)\n",
    "\n",
    "features = list(train[predictors].columns[selector.get_support(indices = True)])\n",
    "features"
   ]
  },
  {
   "cell_type": "code",
   "execution_count": 25,
   "metadata": {},
   "outputs": [],
   "source": [
    "# Train-Train-Split on Train Data Set\n",
    "\n",
    "from sklearn.model_selection import train_test_split, KFold, cross_val_score\n",
    "\n",
    "target = ['SalePrice']\n",
    "not_target = ['Overall Qual',\n",
    " 'Year Built',\n",
    " 'Total Bsmt SF',\n",
    " '1st Flr SF',\n",
    " 'Gr Liv Area',\n",
    " 'Garage Cars',\n",
    " 'Garage Area',\n",
    " 'Exter Qual_TA',\n",
    " 'Bsmt Qual_Ex',\n",
    " 'Kitchen Qual_Ex']\n",
    "\n",
    "X = train[not_target].values\n",
    "Y = train[target].values\n",
    "\n",
    "X_train, X_test, Y_train, Y_test = train_test_split(X, Y, random_state=42)"
   ]
  },
  {
   "cell_type": "code",
   "execution_count": 26,
   "metadata": {},
   "outputs": [],
   "source": [
    "# Standardize Data Set\n",
    "\n",
    "ss = StandardScaler()\n",
    "X_train_scaled = ss.fit_transform(X_train)\n",
    "X_test_scaled = ss.transform(X_test)"
   ]
  },
  {
   "cell_type": "code",
   "execution_count": 27,
   "metadata": {},
   "outputs": [
    {
     "name": "stdout",
     "output_type": "stream",
     "text": [
      "LinReg Training Score: 0.8685090741271412\n"
     ]
    }
   ],
   "source": [
    "# Fit Linear Regression Model\n",
    "\n",
    "from sklearn.linear_model import LinearRegression\n",
    "lr = LinearRegression()\n",
    "lr.fit(X_train_scaled, Y_train)\n",
    "print(f\"LinReg Training Score: {lr.score(X_test_scaled, Y_test)}\")"
   ]
  },
  {
   "cell_type": "code",
   "execution_count": 28,
   "metadata": {},
   "outputs": [],
   "source": [
    "# Now Use the Model on the Test Data Set\n",
    "\n",
    "target = ['SalePrice']\n",
    "not_target = ['Overall Qual',\n",
    " 'Year Built',\n",
    " 'Total Bsmt SF',\n",
    " '1st Flr SF',\n",
    " 'Gr Liv Area',\n",
    " 'Garage Cars',\n",
    " 'Garage Area',\n",
    " 'Exter Qual_TA',\n",
    " 'Bsmt Qual_Ex',\n",
    " 'Kitchen Qual_Ex']\n",
    "\n",
    "X_testvalues = test[not_target].values\n",
    "Y_testvalues = test[target].values\n",
    "\n",
    "\n",
    "ss = StandardScaler()\n",
    "X_testvalues_scaled = ss.fit_transform(X_testvalues)\n",
    "X_testvalues_scaled = ss.transform(X_testvalues)\n",
    "\n",
    "yhat_withKbest = lr.predict(X_testvalues_scaled)"
   ]
  },
  {
   "cell_type": "code",
   "execution_count": 29,
   "metadata": {},
   "outputs": [],
   "source": [
    "# # Feature Selection with 1 Features\n",
    "\n",
    "# from sklearn.feature_selection import  SelectKBest, f_regression, f_classif\n",
    "# selector = SelectKBest(score_func=f_regression, k=1)\n",
    "\n",
    "# target = 'SalePrice'\n",
    "# not_target = [x for x in train.columns if x != target]\n",
    "\n",
    "# predictors = not_target\n",
    "\n",
    "# selector.fit(train[predictors], train[target])\n",
    "\n",
    "# best_features = selector.get_support(indices=True)\n",
    "\n",
    "# features = list(train[predictors].columns[selector.get_support(indices = True)])\n",
    "# features"
   ]
  },
  {
   "cell_type": "code",
   "execution_count": 30,
   "metadata": {},
   "outputs": [],
   "source": [
    "# # Fit Linear Model on 1 Feature\n",
    "\n",
    "# target = ['SalePrice']\n",
    "# not_target = ['Overall Qual']\n",
    "\n",
    "# X_testvalues = test[not_target].values\n",
    "# Y_testvalues = test[target].values\n",
    "\n",
    "\n",
    "# X = train[not_target].values\n",
    "# Y = train[target].values\n",
    "\n",
    "# X_train, X_test, Y_train, Y_test = train_test_split(X, Y, random_state=42)\n",
    "\n",
    "# ss = StandardScaler()\n",
    "# X_train_scaled = ss.fit_transform(X_train)\n",
    "# X_test_scaled = ss.transform(X_test)\n",
    "\n",
    "# from sklearn.linear_model import LinearRegression\n",
    "# lr = LinearRegression()\n",
    "# lr.fit(X_train_scaled, Y_train)\n",
    "# print(f\"LinReg Training Score: {lr.score(X_test_scaled, Y_test)}\")"
   ]
  },
  {
   "cell_type": "code",
   "execution_count": 31,
   "metadata": {},
   "outputs": [],
   "source": [
    "# # Feature Selection with 25 Features\n",
    "\n",
    "# from sklearn.feature_selection import  SelectKBest, f_regression, f_classif\n",
    "# selector = SelectKBest(score_func=f_regression, k=25)\n",
    "\n",
    "# target = 'SalePrice'\n",
    "# not_target = [x for x in train.columns if x != target]\n",
    "\n",
    "# predictors = not_target\n",
    "\n",
    "# selector.fit(train[predictors], train[target])\n",
    "\n",
    "# best_features = selector.get_support(indices=True)\n",
    "\n",
    "# features = list(train[predictors].columns[selector.get_support(indices = True)])\n",
    "# features"
   ]
  },
  {
   "cell_type": "code",
   "execution_count": 32,
   "metadata": {},
   "outputs": [],
   "source": [
    "# # Fit Linear Model on 25 Features\n",
    "\n",
    "# target = ['SalePrice']\n",
    "# not_target = ['Overall Qual',\n",
    "#  'Year Built',\n",
    "#  'Year Remod/Add',\n",
    "#  'Mas Vnr Area',\n",
    "#  'Total Bsmt SF',\n",
    "#  '1st Flr SF',\n",
    "#  'Gr Liv Area',\n",
    "#  'Full Bath',\n",
    "#  'TotRms AbvGrd',\n",
    "#  'Fireplaces',\n",
    "#  'Garage Yr Blt',\n",
    "#  'Garage Cars',\n",
    "#  'Garage Area',\n",
    "#  'Neighborhood_NridgHt',\n",
    "#  'Exter Qual_Ex',\n",
    "#  'Exter Qual_Gd',\n",
    "#  'Exter Qual_TA',\n",
    "#  'Foundation_PConc',\n",
    "#  'Bsmt Qual_Ex',\n",
    "#  'Bsmt Qual_TA',\n",
    "#  'BsmtFin Type 1_GLQ',\n",
    "#  'Heating QC_Ex',\n",
    "#  'Kitchen Qual_Ex',\n",
    "#  'Kitchen Qual_TA',\n",
    "#  'Garage Finish_Unf']\n",
    "\n",
    "# X_testvalues = test[not_target].values\n",
    "# Y_testvalues = test[target].values\n",
    "\n",
    "\n",
    "# X = train[not_target].values\n",
    "# Y = train[target].values\n",
    "\n",
    "# X_train, X_test, Y_train, Y_test = train_test_split(X, Y, random_state=42)\n",
    "\n",
    "# ss = StandardScaler()\n",
    "# X_train_scaled = ss.fit_transform(X_train)\n",
    "# X_test_scaled = ss.transform(X_test)\n",
    "\n",
    "# from sklearn.linear_model import LinearRegression\n",
    "# lr = LinearRegression()\n",
    "# lr.fit(X_train_scaled, Y_train)\n",
    "# print(f\"LinReg Training Score: {lr.score(X_test_scaled, Y_test)}\")"
   ]
  },
  {
   "cell_type": "code",
   "execution_count": 33,
   "metadata": {},
   "outputs": [],
   "source": [
    "# Submission for LinReg Model\n",
    "\n",
    "# submission_yhat_withKbest = pd.DataFrame(data = yhat_withKbest, columns = ['SalePrice'], index=test['Id'])\n",
    "# submission_yhat_withKbest.to_csv('./submission_yhat_withKbest.csv')"
   ]
  },
  {
   "cell_type": "code",
   "execution_count": 34,
   "metadata": {},
   "outputs": [
    {
     "name": "stdout",
     "output_type": "stream",
     "text": [
      "162.5755666443795\n",
      "[0.86618331 0.82366984 0.81436082 0.81814988 0.83569357 0.83224428\n",
      " 0.8726353  0.73754781 0.54307092 0.84258911]\n",
      "0.7986144838368155\n"
     ]
    }
   ],
   "source": [
    "# Ridge Model\n",
    "\n",
    "from sklearn.model_selection import cross_val_score, cross_val_predict\n",
    "from sklearn.linear_model import LinearRegression, Ridge, RidgeCV\n",
    "\n",
    "ridge_alphas = np.logspace(0, 5, 200)\n",
    "\n",
    "optimal_ridge = RidgeCV(alphas=ridge_alphas, cv=10)\n",
    "optimal_ridge.fit(X_train_scaled, Y_train)\n",
    "\n",
    "print(optimal_ridge.alpha_)\n",
    "\n",
    "ridge = Ridge(alpha=optimal_ridge.alpha_)\n",
    "\n",
    "ridge_scores = cross_val_score(ridge, X_train_scaled, Y_train, cv=10)\n",
    "\n",
    "print(ridge_scores)\n",
    "print(np.mean(ridge_scores))\n",
    "yhat_optimal_ridge = optimal_ridge.predict(X_testvalues_scaled)"
   ]
  },
  {
   "cell_type": "code",
   "execution_count": 35,
   "metadata": {},
   "outputs": [],
   "source": [
    "# def plot_cv(alphas, cv_means, optimal_alpha, lr_mse, log=False):\n",
    "#     # alphas = list of alphas\n",
    "#     # cv_means = list of CV mean MSE\n",
    "#     # optimal_alpha\n",
    "#     # lr_mse\n",
    "#     fig = plt.figure(figsize=(12,8))\n",
    "#     ax = plt.gca()\n",
    "\n",
    "#     if log:\n",
    "#         ax.semilogx(alphas, cv_means, lw=2)\n",
    "#     else:\n",
    "#         ax.plot(alphas, cv_means, lw=2)\n",
    "#     ax.axvline(optimal_alpha)\n",
    "#     ax.axhline(lr_mse)\n",
    "#     ax.set_xlabel('alpha')\n",
    "#     ax.set_ylabel('Mean Squared Error')\n",
    "\n",
    "# lr_model = LinearRegression()\n",
    "# lr_cv_mean_mse = -cross_val_score(lr_model, X_train_scaled, Y_train, cv=5, scoring='neg_mean_squared_error').mean()\n",
    "    \n",
    "# plot_cv(optimal_ridge.alphas, ridge_scores, optimal_ridge.alpha_, lr_cv_mean_mse, log=True)\n",
    "\n",
    "\n"
   ]
  },
  {
   "cell_type": "code",
   "execution_count": 36,
   "metadata": {},
   "outputs": [],
   "source": [
    "# Submission for Ridge Model\n",
    "\n",
    "# submission_optimal_ridge = pd.DataFrame(data = yhat_optimal_ridge, columns = ['SalePrice'], index=test['Id'])\n",
    "# submission_optimal_ridge.to_csv('./submission_optimal_ridge.csv')"
   ]
  },
  {
   "cell_type": "code",
   "execution_count": 37,
   "metadata": {},
   "outputs": [
    {
     "name": "stderr",
     "output_type": "stream",
     "text": [
      "/anaconda3/lib/python3.6/site-packages/sklearn/linear_model/coordinate_descent.py:1094: DataConversionWarning: A column-vector y was passed when a 1d array was expected. Please change the shape of y to (n_samples, ), for example using ravel().\n",
      "  y = column_or_1d(y, warn=True)\n"
     ]
    },
    {
     "name": "stdout",
     "output_type": "stream",
     "text": [
      "548.531797513093\n",
      "[0.86780293 0.82694233 0.81276649 0.81846715 0.83758561 0.83224212\n",
      " 0.87655342 0.73782674 0.51226477 0.83968991]\n",
      "0.7962141473185773\n"
     ]
    }
   ],
   "source": [
    "# Lasso Model\n",
    "\n",
    "from sklearn.linear_model import Lasso, LassoCV\n",
    "\n",
    "optimal_lasso = LassoCV(n_alphas=500, cv=10, verbose=0)\n",
    "optimal_lasso.fit(X_train_scaled, Y_train)\n",
    "\n",
    "print(optimal_lasso.alpha_)\n",
    "\n",
    "lasso = Lasso(alpha=optimal_lasso.alpha_)\n",
    "\n",
    "lasso_scores = cross_val_score(lasso, X_train_scaled, Y_train, cv=10)\n",
    "\n",
    "print(lasso_scores)\n",
    "print(np.mean(lasso_scores))\n",
    "\n",
    "lasso.fit(X_train_scaled, Y_train)\n",
    "\n",
    "yhat_optimal_lasso = optimal_lasso.predict(X_testvalues_scaled)"
   ]
  },
  {
   "cell_type": "code",
   "execution_count": 38,
   "metadata": {},
   "outputs": [],
   "source": [
    "# Submission for Lasso Model\n",
    "\n",
    "# submission_optimal_lasso = pd.DataFrame(data = yhat_optimal_lasso, columns = ['SalePrice'], index=test['Id'])\n",
    "# submission_optimal_lasso.to_csv('./submission_optimal_lasso.csv')"
   ]
  },
  {
   "cell_type": "code",
   "execution_count": 39,
   "metadata": {},
   "outputs": [
    {
     "name": "stderr",
     "output_type": "stream",
     "text": [
      "/anaconda3/lib/python3.6/site-packages/sklearn/linear_model/coordinate_descent.py:1094: DataConversionWarning: A column-vector y was passed when a 1d array was expected. Please change the shape of y to (n_samples, ), for example using ravel().\n",
      "  y = column_or_1d(y, warn=True)\n"
     ]
    },
    {
     "name": "stdout",
     "output_type": "stream",
     "text": [
      "590.2323733256419\n",
      "1.0\n",
      "[0.86780017 0.82678054 0.81270019 0.81846995 0.83756355 0.83217443\n",
      " 0.87641525 0.7378993  0.51282098 0.83960057]\n",
      "0.7962224934334381\n"
     ]
    }
   ],
   "source": [
    "# Elastic Net\n",
    "\n",
    "from sklearn.linear_model import ElasticNet, ElasticNetCV\n",
    "\n",
    "l1_ratios = np.linspace(0.01, 1.0, 25)\n",
    "\n",
    "optimal_enet = ElasticNetCV(l1_ratio=l1_ratios, n_alphas=100, cv=10,\n",
    "                            verbose=0)\n",
    "optimal_enet.fit(X_train_scaled, Y_train)\n",
    "\n",
    "print(optimal_enet.alpha_)\n",
    "print(optimal_enet.l1_ratio_)\n",
    "\n",
    "enet = ElasticNet(alpha=optimal_enet.alpha_, l1_ratio=optimal_enet.l1_ratio_)\n",
    "\n",
    "enet_scores = cross_val_score(enet, X_train_scaled, Y_train, cv=10)\n",
    "\n",
    "print(enet_scores)\n",
    "print(np.mean(enet_scores))\n",
    "\n",
    "yhat_optimal_enet = optimal_enet.predict(X_testvalues_scaled)"
   ]
  },
  {
   "cell_type": "code",
   "execution_count": 40,
   "metadata": {},
   "outputs": [],
   "source": [
    "# Submission for Elastic Net\n",
    "\n",
    "# submission_optimal_enet = pd.DataFrame(data = yhat_optimal_enet, columns = ['SalePrice'], index=test['Id'])\n",
    "# submission_optimal_enet.to_csv('./submission_optimal_enet.csv')"
   ]
  }
 ],
 "metadata": {
  "hide_input": false,
  "kernelspec": {
   "display_name": "Python [default]",
   "language": "python",
   "name": "python3"
  },
  "language_info": {
   "codemirror_mode": {
    "name": "ipython",
    "version": 3
   },
   "file_extension": ".py",
   "mimetype": "text/x-python",
   "name": "python",
   "nbconvert_exporter": "python",
   "pygments_lexer": "ipython3",
   "version": "3.6.4"
  }
 },
 "nbformat": 4,
 "nbformat_minor": 2
}
